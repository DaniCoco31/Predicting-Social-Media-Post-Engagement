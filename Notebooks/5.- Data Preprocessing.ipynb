{
 "cells": [
  {
   "cell_type": "markdown",
   "metadata": {},
   "source": [
    "# Data Preprocessing"
   ]
  },
  {
   "cell_type": "markdown",
   "metadata": {},
   "source": [
    "## Introduction\n",
    "In this notebook, we will preprocess the dataset to prepare it for model training. This includes splitting the data into training and testing sets, scaling the features, and ensuring the data is in the correct format for machine learning models."
   ]
  },
  {
   "cell_type": "markdown",
   "metadata": {},
   "source": [
    "## Step 1: Load the Cleaned Data\n",
    "We begin by loading the dataset that was prepared in the previous notebooks.\n"
   ]
  },
  {
   "cell_type": "code",
   "execution_count": 2,
   "metadata": {},
   "outputs": [],
   "source": [
    "import pandas as pd\n",
    "from sklearn.model_selection import train_test_split\n",
    "from sklearn.preprocessing import MinMaxScaler"
   ]
  },
  {
   "cell_type": "markdown",
   "metadata": {},
   "source": [
    "# Load the final data from the previous notebook"
   ]
  },
  {
   "cell_type": "code",
   "execution_count": 5,
   "metadata": {},
   "outputs": [],
   "source": [
    "df = pd.read_csv('../Data/Clean-Data/df_to_model.csv')\n",
    "df = df.sample(1000)"
   ]
  },
  {
   "cell_type": "code",
   "execution_count": 6,
   "metadata": {},
   "outputs": [
    {
     "name": "stdout",
     "output_type": "stream",
     "text": [
      "<class 'pandas.core.frame.DataFrame'>\n",
      "Index: 1000 entries, 211351 to 335218\n",
      "Columns: 1063 entries, interactions to time_of_day_night\n",
      "dtypes: bool(31), float64(1030), int64(2)\n",
      "memory usage: 7.9 MB\n"
     ]
    },
    {
     "data": {
      "text/html": [
       "<div>\n",
       "<style scoped>\n",
       "    .dataframe tbody tr th:only-of-type {\n",
       "        vertical-align: middle;\n",
       "    }\n",
       "\n",
       "    .dataframe tbody tr th {\n",
       "        vertical-align: top;\n",
       "    }\n",
       "\n",
       "    .dataframe thead th {\n",
       "        text-align: right;\n",
       "    }\n",
       "</style>\n",
       "<table border=\"1\" class=\"dataframe\">\n",
       "  <thead>\n",
       "    <tr style=\"text-align: right;\">\n",
       "      <th></th>\n",
       "      <th>interactions</th>\n",
       "      <th>following</th>\n",
       "      <th>followers</th>\n",
       "      <th>num_posts</th>\n",
       "      <th>is_business_account</th>\n",
       "      <th>embedded_0</th>\n",
       "      <th>embedded_1</th>\n",
       "      <th>embedded_2</th>\n",
       "      <th>embedded_3</th>\n",
       "      <th>embedded_4</th>\n",
       "      <th>...</th>\n",
       "      <th>day_of_week_Monday</th>\n",
       "      <th>day_of_week_Saturday</th>\n",
       "      <th>day_of_week_Sunday</th>\n",
       "      <th>day_of_week_Thursday</th>\n",
       "      <th>day_of_week_Tuesday</th>\n",
       "      <th>day_of_week_Wednesday</th>\n",
       "      <th>time_of_day_afternoon</th>\n",
       "      <th>time_of_day_early_morning</th>\n",
       "      <th>time_of_day_morning</th>\n",
       "      <th>time_of_day_night</th>\n",
       "    </tr>\n",
       "  </thead>\n",
       "  <tbody>\n",
       "    <tr>\n",
       "      <th>211351</th>\n",
       "      <td>167</td>\n",
       "      <td>743</td>\n",
       "      <td>1.252490</td>\n",
       "      <td>0.780913</td>\n",
       "      <td>False</td>\n",
       "      <td>0.235544</td>\n",
       "      <td>0.175321</td>\n",
       "      <td>-0.035041</td>\n",
       "      <td>0.161449</td>\n",
       "      <td>-0.518485</td>\n",
       "      <td>...</td>\n",
       "      <td>False</td>\n",
       "      <td>False</td>\n",
       "      <td>True</td>\n",
       "      <td>False</td>\n",
       "      <td>False</td>\n",
       "      <td>False</td>\n",
       "      <td>True</td>\n",
       "      <td>False</td>\n",
       "      <td>False</td>\n",
       "      <td>False</td>\n",
       "    </tr>\n",
       "    <tr>\n",
       "      <th>334344</th>\n",
       "      <td>38</td>\n",
       "      <td>1411</td>\n",
       "      <td>-0.553813</td>\n",
       "      <td>-0.346329</td>\n",
       "      <td>False</td>\n",
       "      <td>-0.228337</td>\n",
       "      <td>0.853343</td>\n",
       "      <td>-0.340312</td>\n",
       "      <td>0.104605</td>\n",
       "      <td>-0.946533</td>\n",
       "      <td>...</td>\n",
       "      <td>False</td>\n",
       "      <td>False</td>\n",
       "      <td>False</td>\n",
       "      <td>True</td>\n",
       "      <td>False</td>\n",
       "      <td>False</td>\n",
       "      <td>False</td>\n",
       "      <td>False</td>\n",
       "      <td>False</td>\n",
       "      <td>True</td>\n",
       "    </tr>\n",
       "  </tbody>\n",
       "</table>\n",
       "<p>2 rows × 1063 columns</p>\n",
       "</div>"
      ],
      "text/plain": [
       "        interactions  following  followers  num_posts  is_business_account  \\\n",
       "211351           167        743   1.252490   0.780913                False   \n",
       "334344            38       1411  -0.553813  -0.346329                False   \n",
       "\n",
       "        embedded_0  embedded_1  embedded_2  embedded_3  embedded_4  ...  \\\n",
       "211351    0.235544    0.175321   -0.035041    0.161449   -0.518485  ...   \n",
       "334344   -0.228337    0.853343   -0.340312    0.104605   -0.946533  ...   \n",
       "\n",
       "        day_of_week_Monday  day_of_week_Saturday  day_of_week_Sunday  \\\n",
       "211351               False                 False                True   \n",
       "334344               False                 False               False   \n",
       "\n",
       "        day_of_week_Thursday  day_of_week_Tuesday  day_of_week_Wednesday  \\\n",
       "211351                 False                False                  False   \n",
       "334344                  True                False                  False   \n",
       "\n",
       "        time_of_day_afternoon  time_of_day_early_morning  time_of_day_morning  \\\n",
       "211351                   True                      False                False   \n",
       "334344                  False                      False                False   \n",
       "\n",
       "        time_of_day_night  \n",
       "211351              False  \n",
       "334344               True  \n",
       "\n",
       "[2 rows x 1063 columns]"
      ]
     },
     "execution_count": 6,
     "metadata": {},
     "output_type": "execute_result"
    }
   ],
   "source": [
    "# Display basic information about the dataset\n",
    "df.info()\n",
    "df.head(2)"
   ]
  },
  {
   "cell_type": "code",
   "execution_count": 7,
   "metadata": {},
   "outputs": [
    {
     "data": {
      "text/plain": [
       "Index(['interactions', 'following', 'followers', 'num_posts',\n",
       "       'is_business_account', 'embedded_0', 'embedded_1', 'embedded_2',\n",
       "       'embedded_3', 'embedded_4', 'embedded_5', 'embedded_6', 'embedded_7',\n",
       "       'embedded_8', 'embedded_9', 'embedded_10', 'embedded_11', 'embedded_12',\n",
       "       'embedded_13', 'embedded_14', 'embedded_15', 'embedded_16',\n",
       "       'embedded_17', 'embedded_18', 'embedded_19', 'embedded_20',\n",
       "       'embedded_21', 'embedded_22', 'embedded_23', 'embedded_24',\n",
       "       'embedded_25', 'embedded_26', 'embedded_27', 'embedded_28',\n",
       "       'embedded_29', 'embedded_30', 'embedded_31', 'embedded_32',\n",
       "       'embedded_33', 'embedded_34', 'embedded_35', 'embedded_36',\n",
       "       'embedded_37', 'embedded_38', 'embedded_39', 'embedded_40',\n",
       "       'embedded_41', 'embedded_42', 'embedded_43', 'embedded_44'],\n",
       "      dtype='object')"
      ]
     },
     "execution_count": 7,
     "metadata": {},
     "output_type": "execute_result"
    }
   ],
   "source": [
    "#get the name of the forst 50 columns\n",
    "df.columns[:50]"
   ]
  },
  {
   "cell_type": "code",
   "execution_count": 9,
   "metadata": {},
   "outputs": [
    {
     "data": {
      "text/plain": [
       "Index(['embedded_1015', 'embedded_1016', 'embedded_1017', 'embedded_1018',\n",
       "       'embedded_1019', 'embedded_1020', 'embedded_1021', 'embedded_1022',\n",
       "       'embedded_1023', 'description_length', 'followers_trans',\n",
       "       'num_posts_trans', 'description_length_trans',\n",
       "       'category_arts_&_culture', 'category_business_&_entrepreneurs',\n",
       "       'category_celebrity_&_pop_culture', 'category_diaries_&_daily_life',\n",
       "       'category_family', 'category_fashion_&_style',\n",
       "       'category_film_tv_&_video', 'category_fitness_&_health',\n",
       "       'category_food_&_dining', 'category_gaming',\n",
       "       'category_learning_&_educational', 'category_music',\n",
       "       'category_news_&_social_concern', 'category_other_hobbies',\n",
       "       'category_relationships', 'category_science_&_technology',\n",
       "       'category_sports', 'category_travel_&_adventure',\n",
       "       'category_youth_&_student_life', 'day_of_week_Friday',\n",
       "       'day_of_week_Monday', 'day_of_week_Saturday', 'day_of_week_Sunday',\n",
       "       'day_of_week_Thursday', 'day_of_week_Tuesday', 'day_of_week_Wednesday',\n",
       "       'time_of_day_afternoon', 'time_of_day_early_morning',\n",
       "       'time_of_day_morning', 'time_of_day_night'],\n",
       "      dtype='object')"
      ]
     },
     "execution_count": 9,
     "metadata": {},
     "output_type": "execute_result"
    }
   ],
   "source": [
    "# get the name of the last 50 columns\n",
    "df.columns[1020:]"
   ]
  },
  {
   "cell_type": "markdown",
   "metadata": {},
   "source": [
    "# Check the data types"
   ]
  },
  {
   "cell_type": "code",
   "execution_count": 16,
   "metadata": {},
   "outputs": [],
   "source": [
    "# change the data types from bool to int for every column with a for loop\n",
    "for col in df.columns:\n",
    "    if df[col].dtype == 'bool':\n",
    "        df[col] = df[col].astype(int)"
   ]
  },
  {
   "cell_type": "code",
   "execution_count": 17,
   "metadata": {},
   "outputs": [
    {
     "name": "stdout",
     "output_type": "stream",
     "text": [
      "<class 'pandas.core.frame.DataFrame'>\n",
      "RangeIndex: 6738 entries, 0 to 6737\n",
      "Columns: 1063 entries, interactions to embedded_1023\n",
      "dtypes: float64(1030), int64(33)\n",
      "memory usage: 54.6 MB\n"
     ]
    }
   ],
   "source": [
    "df.info()"
   ]
  },
  {
   "cell_type": "markdown",
   "metadata": {},
   "source": [
    "Loading Data: The dataset from the feature engineering step is loaded to be prepared for model training."
   ]
  },
  {
   "cell_type": "markdown",
   "metadata": {},
   "source": [
    "## Step 2: Define Features and Target Variable\n",
    "We will define the features (input variables) and the target variable that we want to predict."
   ]
  },
  {
   "cell_type": "markdown",
   "metadata": {},
   "source": [
    "# Define the features (X) and the target variable (y)"
   ]
  },
  {
   "cell_type": "code",
   "execution_count": 18,
   "metadata": {},
   "outputs": [],
   "source": [
    "features = df.drop('interactions', axis=1)\n",
    "target = df['interactions']"
   ]
  },
  {
   "cell_type": "markdown",
   "metadata": {},
   "source": [
    "# Split the data into training and testing sets"
   ]
  },
  {
   "cell_type": "code",
   "execution_count": 19,
   "metadata": {},
   "outputs": [],
   "source": [
    "X_train, X_test, y_train, y_test = train_test_split(features, target, test_size=0.20, random_state=0)"
   ]
  },
  {
   "cell_type": "code",
   "execution_count": 20,
   "metadata": {},
   "outputs": [],
   "source": [
    "# Ensure all column names are strings\n",
    "X_train.columns = X_train.columns.astype(str)\n",
    "X_test.columns = X_test.columns.astype(str)"
   ]
  },
  {
   "cell_type": "markdown",
   "metadata": {},
   "source": [
    "Feature and Target Definition: The interactions column is our target, and the rest of the columns are used as features for prediction."
   ]
  },
  {
   "cell_type": "markdown",
   "metadata": {},
   "source": [
    "## Step 3: Feature Scaling\n",
    "We will scale the features to ensure that they are on a similar scale, which is important for many machine learning algorithms."
   ]
  },
  {
   "cell_type": "markdown",
   "metadata": {},
   "source": [
    "### Initialize the MinMaxScaler and fit it to the training data"
   ]
  },
  {
   "cell_type": "code",
   "execution_count": 21,
   "metadata": {},
   "outputs": [],
   "source": [
    "scaler = MinMaxScaler()\n",
    "X_train_scaled = scaler.fit_transform(X_train)\n",
    "X_test_scaled = scaler.transform(X_test)"
   ]
  },
  {
   "cell_type": "markdown",
   "metadata": {},
   "source": [
    "### Verify the scaled data"
   ]
  },
  {
   "cell_type": "code",
   "execution_count": 22,
   "metadata": {},
   "outputs": [
    {
     "name": "stdout",
     "output_type": "stream",
     "text": [
      "Scaled Training Data:\n",
      "[[0.1232786  0.2229206  0.51072961 ... 0.51476643 0.48590362 0.52705736]\n",
      " [0.02979343 0.04734968 0.10354077 ... 0.43659714 0.58437964 0.68099872]]\n"
     ]
    }
   ],
   "source": [
    "print(\"Scaled Training Data:\")\n",
    "print(X_train_scaled[:2])"
   ]
  },
  {
   "cell_type": "markdown",
   "metadata": {},
   "source": [
    "Scaling: The features are scaled using MinMaxScaler to normalize the data between 0 and 1, which helps improve the performance of many machine learning models."
   ]
  },
  {
   "cell_type": "markdown",
   "metadata": {},
   "source": [
    "## Step 4: Save the Preprocessed Data\n",
    "We will save the preprocessed data for use in the next notebook."
   ]
  },
  {
   "cell_type": "markdown",
   "metadata": {},
   "source": [
    "### Save the preprocessed data"
   ]
  },
  {
   "cell_type": "code",
   "execution_count": 23,
   "metadata": {},
   "outputs": [],
   "source": [
    "pd.DataFrame(X_train_scaled, columns=X_train.columns).to_csv('../Data/Clean-Data/X_train_scaled.csv', index=False)\n",
    "pd.DataFrame(X_test_scaled, columns=X_test.columns).to_csv('../Data/Clean-Data/X_test_scaled.csv', index=False)\n",
    "y_train.to_csv('../Data/Clean-Data/y_train.csv', index=False)\n",
    "y_test.to_csv('../Data/Clean-Data/y_test.csv', index=False)"
   ]
  },
  {
   "cell_type": "code",
   "execution_count": 24,
   "metadata": {},
   "outputs": [
    {
     "name": "stdout",
     "output_type": "stream",
     "text": [
      "Preprocessed data saved.\n"
     ]
    }
   ],
   "source": [
    "print(\"Preprocessed data saved.\")\n"
   ]
  },
  {
   "cell_type": "markdown",
   "metadata": {},
   "source": [
    "Data Saving: The preprocessed data is saved so that it can be easily loaded in the next steps of the project."
   ]
  },
  {
   "cell_type": "markdown",
   "metadata": {},
   "source": [
    "# Conclusion\n",
    "The data is now preprocessed and ready for model training. In the next notebook, we will experiment with various machine learning models to predict Instagram post interactions."
   ]
  }
 ],
 "metadata": {
  "kernelspec": {
   "display_name": "base",
   "language": "python",
   "name": "python3"
  },
  "language_info": {
   "codemirror_mode": {
    "name": "ipython",
    "version": 3
   },
   "file_extension": ".py",
   "mimetype": "text/x-python",
   "name": "python",
   "nbconvert_exporter": "python",
   "pygments_lexer": "ipython3",
   "version": "3.12.2"
  }
 },
 "nbformat": 4,
 "nbformat_minor": 2
}
