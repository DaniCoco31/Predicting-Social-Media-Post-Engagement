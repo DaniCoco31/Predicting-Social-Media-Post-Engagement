{
 "cells": [
  {
   "cell_type": "markdown",
   "metadata": {},
   "source": [
    "# Feature Engineering\n",
    "\n",
    "## Introduction\n",
    "In this notebook, we will engineer features based on the insights from the EDA. We will also prepare the data for modeling, including one-hot encoding categorical variables and normalizing numerical features."
   ]
  },
  {
   "cell_type": "markdown",
   "metadata": {},
   "source": [
    "## Step 1: Load the EDA Data\n",
    "We start by loading the data processed in the previous notebook."
   ]
  },
  {
   "cell_type": "code",
   "execution_count": 2,
   "metadata": {},
   "outputs": [],
   "source": [
    "import pandas as pd\n",
    "import seaborn as sns\n",
    "import matplotlib.pyplot as plt"
   ]
  },
  {
   "cell_type": "markdown",
   "metadata": {},
   "source": [
    "# Load the EDA data"
   ]
  },
  {
   "cell_type": "code",
   "execution_count": 3,
   "metadata": {},
   "outputs": [
    {
     "name": "stdout",
     "output_type": "stream",
     "text": [
      "EDA Data Loaded:\n",
      "        id                                        description  interactions  \\\n",
      "0  3344276  my ladies so grateful for my beautiful maid of...           117   \n",
      "1  1184509  brothers in the arms howorthgary i am fuller s...           114   \n",
      "\n",
      "  day_of_week time_of_day  following  followers  num_posts  \\\n",
      "0      Sunday       night        442        978        224   \n",
      "1    Saturday   afternoon       3628        859        456   \n",
      "\n",
      "   is_business_account              category  ...  embedded_1019  \\\n",
      "0                False  diaries_&_daily_life  ...       0.375111   \n",
      "1                False                family  ...       0.835768   \n",
      "\n",
      "   embedded_1020  embedded_1021  embedded_1022  embedded_1023  \\\n",
      "0       0.305837      -0.772650       0.857108       0.206090   \n",
      "1      -0.386081      -0.693672      -0.019355      -0.629835   \n",
      "\n",
      "   description_length  followers_trans  interactions_trans  num_posts_trans  \\\n",
      "0                  76         6.886532            4.770685         5.416100   \n",
      "1                  83         6.756932            4.744932         6.124683   \n",
      "\n",
      "   description_length_trans  \n",
      "0                  4.343805  \n",
      "1                  4.430817  \n",
      "\n",
      "[2 rows x 1039 columns]\n",
      "Shape of the EDA data: (33346, 1039)\n"
     ]
    }
   ],
   "source": [
    "df = pd.read_csv('../Data/Clean-Data/eda_data.csv')\n",
    "print(\"EDA Data Loaded:\")\n",
    "print(df.head(2))\n",
    "print(\"Shape of the EDA data:\", df.shape)"
   ]
  },
  {
   "cell_type": "markdown",
   "metadata": {},
   "source": [
    "Loading Data: The EDA-processed dataset is loaded for feature engineering."
   ]
  },
  {
   "cell_type": "markdown",
   "metadata": {},
   "source": [
    "## Step 2: One-Hot Encoding for Categorical Variables\n",
    "We will convert categorical variables into a format suitable for machine learning models."
   ]
  },
  {
   "cell_type": "markdown",
   "metadata": {},
   "source": [
    "### One-hot encoding for the 'category' column"
   ]
  },
  {
   "cell_type": "code",
   "execution_count": 4,
   "metadata": {},
   "outputs": [],
   "source": [
    "df = pd.get_dummies(df, columns=['category', 'day_of_week', 'time_of_day'])"
   ]
  },
  {
   "cell_type": "code",
   "execution_count": 5,
   "metadata": {},
   "outputs": [
    {
     "name": "stdout",
     "output_type": "stream",
     "text": [
      "Data after one-hot encoding:\n",
      "        id                                        description  interactions  \\\n",
      "0  3344276  my ladies so grateful for my beautiful maid of...           117   \n",
      "1  1184509  brothers in the arms howorthgary i am fuller s...           114   \n",
      "\n",
      "   following  followers  num_posts  is_business_account  embedded_0  \\\n",
      "0        442        978        224                False    0.396556   \n",
      "1       3628        859        456                False    0.420959   \n",
      "\n",
      "   embedded_1  embedded_2  ...  day_of_week_Monday  day_of_week_Saturday  \\\n",
      "0   -0.215152   -0.750028  ...               False                 False   \n",
      "1   -0.105338    0.449476  ...               False                  True   \n",
      "\n",
      "   day_of_week_Sunday  day_of_week_Thursday  day_of_week_Tuesday  \\\n",
      "0                True                 False                False   \n",
      "1               False                 False                False   \n",
      "\n",
      "   day_of_week_Wednesday  time_of_day_afternoon  time_of_day_early_morning  \\\n",
      "0                  False                  False                      False   \n",
      "1                  False                   True                      False   \n",
      "\n",
      "   time_of_day_morning  time_of_day_night  \n",
      "0                False               True  \n",
      "1                False              False  \n",
      "\n",
      "[2 rows x 1066 columns]\n",
      "Columns in the data: Index(['id', 'description', 'interactions', 'following', 'followers',\n",
      "       'num_posts', 'is_business_account', 'embedded_0', 'embedded_1',\n",
      "       'embedded_2',\n",
      "       ...\n",
      "       'day_of_week_Monday', 'day_of_week_Saturday', 'day_of_week_Sunday',\n",
      "       'day_of_week_Thursday', 'day_of_week_Tuesday', 'day_of_week_Wednesday',\n",
      "       'time_of_day_afternoon', 'time_of_day_early_morning',\n",
      "       'time_of_day_morning', 'time_of_day_night'],\n",
      "      dtype='object', length=1066)\n"
     ]
    }
   ],
   "source": [
    "\n",
    "print(\"Data after one-hot encoding:\")\n",
    "print(df.head(2))\n",
    "print(\"Columns in the data:\", df.columns)\n"
   ]
  },
  {
   "cell_type": "markdown",
   "metadata": {},
   "source": [
    "One-Hot Encoding: Converts categorical variables into a numeric format that can be fed into models."
   ]
  },
  {
   "cell_type": "markdown",
   "metadata": {},
   "source": [
    "## Step 3: Feature Scaling\n",
    "We will scale numerical features to ensure they are on the same scale, which is crucial for many machine learning algorithms."
   ]
  },
  {
   "cell_type": "code",
   "execution_count": 6,
   "metadata": {},
   "outputs": [
    {
     "name": "stdout",
     "output_type": "stream",
     "text": [
      "Data after scaling:\n",
      "        id                                        description  interactions  \\\n",
      "0  3344276  my ladies so grateful for my beautiful maid of...           117   \n",
      "1  1184509  brothers in the arms howorthgary i am fuller s...           114   \n",
      "\n",
      "   following  followers  num_posts  is_business_account  embedded_0  \\\n",
      "0        442   0.227729  -0.481213                False    0.396556   \n",
      "1       3628   0.080157   0.056009                False    0.420959   \n",
      "\n",
      "   embedded_1  embedded_2  ...  day_of_week_Monday  day_of_week_Saturday  \\\n",
      "0   -0.215152   -0.750028  ...               False                 False   \n",
      "1   -0.105338    0.449476  ...               False                  True   \n",
      "\n",
      "   day_of_week_Sunday  day_of_week_Thursday  day_of_week_Tuesday  \\\n",
      "0                True                 False                False   \n",
      "1               False                 False                False   \n",
      "\n",
      "   day_of_week_Wednesday  time_of_day_afternoon  time_of_day_early_morning  \\\n",
      "0                  False                  False                      False   \n",
      "1                  False                   True                      False   \n",
      "\n",
      "   time_of_day_morning  time_of_day_night  \n",
      "0                False               True  \n",
      "1                False              False  \n",
      "\n",
      "[2 rows x 1066 columns]\n"
     ]
    }
   ],
   "source": [
    "from sklearn.preprocessing import StandardScaler\n",
    "\n",
    "# List of numerical features to scale\n",
    "numerical_features = ['followers', 'num_posts', 'description_length']\n",
    "\n",
    "# Apply StandardScaler to numerical features\n",
    "scaler = StandardScaler()\n",
    "df[numerical_features] = scaler.fit_transform(df[numerical_features])\n",
    "\n",
    "print(\"Data after scaling:\")\n",
    "print(df.head(2))\n"
   ]
  },
  {
   "cell_type": "markdown",
   "metadata": {},
   "source": [
    "Scaling: Ensures all numerical features are on the same scale, improving model performance."
   ]
  },
  {
   "cell_type": "markdown",
   "metadata": {},
   "source": [
    "## Step 4: Finalizing Data for Modeling\n",
    "We will drop any columns not needed for modeling and prepare the dataset for training and testing.v"
   ]
  },
  {
   "cell_type": "markdown",
   "metadata": {},
   "source": [
    "### Drop unnecessary columns"
   ]
  },
  {
   "cell_type": "code",
   "execution_count": 8,
   "metadata": {},
   "outputs": [
    {
     "data": {
      "text/plain": [
       "Index(['id', 'description', 'interactions', 'following', 'followers',\n",
       "       'num_posts', 'is_business_account', 'embedded_0', 'embedded_1',\n",
       "       'embedded_2', 'embedded_3', 'embedded_4', 'embedded_5', 'embedded_6',\n",
       "       'embedded_7', 'embedded_8', 'embedded_9', 'embedded_10', 'embedded_11',\n",
       "       'embedded_12'],\n",
       "      dtype='object')"
      ]
     },
     "execution_count": 8,
     "metadata": {},
     "output_type": "execute_result"
    }
   ],
   "source": [
    "#nombre de las ultimas 50 columnas\n",
    "df.columns[:20]"
   ]
  },
  {
   "cell_type": "code",
   "execution_count": null,
   "metadata": {},
   "outputs": [],
   "source": [
    "df_to_model = df.drop(columns=['id', 'description','interactions_trans'])"
   ]
  },
  {
   "cell_type": "markdown",
   "metadata": {},
   "source": [
    "### Get the columns in order "
   ]
  },
  {
   "cell_type": "code",
   "execution_count": null,
   "metadata": {},
   "outputs": [],
   "source": [
    "df_to_model.shape"
   ]
  },
  {
   "cell_type": "code",
   "execution_count": null,
   "metadata": {},
   "outputs": [],
   "source": [
    "#get me the columns name from the first 25 columns\n",
    "df_to_model.columns[1020:]"
   ]
  },
  {
   "cell_type": "code",
   "execution_count": null,
   "metadata": {},
   "outputs": [],
   "source": [
    "#rearrange the columns\n",
    "df_to_model = df_to_model[[\n",
    "'interactions', 'following', 'followers', 'num_posts','is_business_account',\n",
    "\n",
    "'category_arts_&_culture', 'category_business_&_entrepreneurs',\n",
    "'category_celebrity_&_pop_culture', 'category_diaries_&_daily_life',\n",
    "'category_family', 'category_fashion_&_style', 'category_film_tv_&_video',\n",
    "'category_fitness_&_health', 'category_food_&_dining', 'category_gaming',\n",
    "'category_learning_&_educational', 'category_music',\n",
    "'category_news_&_social_concern', 'category_other_hobbies',\n",
    "'category_relationships', 'category_science_&_technology', 'category_sports',\n",
    "'category_travel_&_adventure', 'category_youth_&_student_life',\n",
    "\n",
    "'day_of_week_Monday', 'day_of_week_Tuesday', 'day_of_week_Wednesday',\n",
    "'day_of_week_Thursday', 'day_of_week_Friday', 'day_of_week_Saturday',\n",
    "'day_of_week_Sunday',\n",
    " \n",
    "'time_of_day_early_morning',\n",
    "'time_of_day_morning', \n",
    "'time_of_day_afternoon',\n",
    "'time_of_day_night', \n",
    "\n",
    "'description_length',\n",
    "'followers_trans',\n",
    "'num_posts_trans',\n",
    "'description_length_trans',\n",
    "\n",
    "'embedded_0', 'embedded_1', 'embedded_2', 'embedded_3', 'embedded_4', 'embedded_5', 'embedded_6', 'embedded_7', 'embedded_8', 'embedded_9',\n",
    "'embedded_10', 'embedded_11', 'embedded_12', 'embedded_13', 'embedded_14', 'embedded_15', 'embedded_16', 'embedded_17', 'embedded_18', 'embedded_19',\n",
    "'embedded_20', 'embedded_21', 'embedded_22', 'embedded_23', 'embedded_24', 'embedded_25', 'embedded_26', 'embedded_27', 'embedded_28', 'embedded_29',\n",
    "'embedded_30', 'embedded_31', 'embedded_32', 'embedded_33', 'embedded_34', 'embedded_35', 'embedded_36', 'embedded_37', 'embedded_38', 'embedded_39',\n",
    "'embedded_40', 'embedded_41', 'embedded_42', 'embedded_43', 'embedded_44', 'embedded_45', 'embedded_46', 'embedded_47', 'embedded_48', 'embedded_49',\n",
    "'embedded_50', 'embedded_51', 'embedded_52', 'embedded_53', 'embedded_54', 'embedded_55', 'embedded_56', 'embedded_57', 'embedded_58', 'embedded_59',\n",
    "'embedded_60', 'embedded_61', 'embedded_62', 'embedded_63', 'embedded_64', 'embedded_65', 'embedded_66', 'embedded_67', 'embedded_68', 'embedded_69',\n",
    "'embedded_70', 'embedded_71', 'embedded_72', 'embedded_73', 'embedded_74', 'embedded_75', 'embedded_76', 'embedded_77', 'embedded_78', 'embedded_79',\n",
    "'embedded_80', 'embedded_81', 'embedded_82', 'embedded_83', 'embedded_84', 'embedded_85', 'embedded_86', 'embedded_87', 'embedded_88', 'embedded_89',\n",
    "'embedded_90', 'embedded_91', 'embedded_92', 'embedded_93', 'embedded_94', 'embedded_95', 'embedded_96', 'embedded_97', 'embedded_98', 'embedded_99',\n",
    "'embedded_100', 'embedded_101', 'embedded_102', 'embedded_103', 'embedded_104', 'embedded_105', 'embedded_106', 'embedded_107', 'embedded_108', 'embedded_109',\n",
    "'embedded_110', 'embedded_111', 'embedded_112', 'embedded_113', 'embedded_114', 'embedded_115', 'embedded_116', 'embedded_117', 'embedded_118', 'embedded_119',\n",
    "'embedded_120', 'embedded_121', 'embedded_122', 'embedded_123', 'embedded_124', 'embedded_125', 'embedded_126', 'embedded_127', 'embedded_128', 'embedded_129',\n",
    "'embedded_130', 'embedded_131', 'embedded_132', 'embedded_133', 'embedded_134', 'embedded_135', 'embedded_136', 'embedded_137', 'embedded_138', 'embedded_139',\n",
    "'embedded_140', 'embedded_141', 'embedded_142', 'embedded_143', 'embedded_144', 'embedded_145', 'embedded_146', 'embedded_147', 'embedded_148', 'embedded_149',\n",
    "'embedded_150', 'embedded_151', 'embedded_152', 'embedded_153', 'embedded_154', 'embedded_155', 'embedded_156', 'embedded_157', 'embedded_158', 'embedded_159',\n",
    "'embedded_160', 'embedded_161', 'embedded_162', 'embedded_163', 'embedded_164', 'embedded_165', 'embedded_166', 'embedded_167', 'embedded_168', 'embedded_169',\n",
    "'embedded_170', 'embedded_171', 'embedded_172', 'embedded_173', 'embedded_174', 'embedded_175', 'embedded_176', 'embedded_177', 'embedded_178', 'embedded_179',\n",
    "'embedded_180', 'embedded_181', 'embedded_182', 'embedded_183', 'embedded_184', 'embedded_185', 'embedded_186', 'embedded_187', 'embedded_188', 'embedded_189',\n",
    "'embedded_190', 'embedded_191', 'embedded_192', 'embedded_193', 'embedded_194', 'embedded_195', 'embedded_196', 'embedded_197', 'embedded_198', 'embedded_199',\n",
    "'embedded_200', 'embedded_201', 'embedded_202', 'embedded_203', 'embedded_204', 'embedded_205', 'embedded_206', 'embedded_207', 'embedded_208', 'embedded_209',\n",
    "'embedded_210', 'embedded_211', 'embedded_212', 'embedded_213', 'embedded_214', 'embedded_215', 'embedded_216', 'embedded_217', 'embedded_218', 'embedded_219',\n",
    "'embedded_220', 'embedded_221', 'embedded_222', 'embedded_223', 'embedded_224', 'embedded_225', 'embedded_226', 'embedded_227', 'embedded_228', 'embedded_229',\n",
    "'embedded_230', 'embedded_231', 'embedded_232', 'embedded_233', 'embedded_234', 'embedded_235', 'embedded_236', 'embedded_237', 'embedded_238', 'embedded_239',\n",
    "'embedded_240', 'embedded_241', 'embedded_242', 'embedded_243', 'embedded_244', 'embedded_245', 'embedded_246', 'embedded_247', 'embedded_248', 'embedded_249',\n",
    "'embedded_250', 'embedded_251', 'embedded_252', 'embedded_253', 'embedded_254', 'embedded_255', 'embedded_256', 'embedded_257', 'embedded_258', 'embedded_259',\n",
    "'embedded_260', 'embedded_261', 'embedded_262', 'embedded_263', 'embedded_264', 'embedded_265', 'embedded_266', 'embedded_267', 'embedded_268', 'embedded_269',\n",
    "'embedded_270', 'embedded_271', 'embedded_272', 'embedded_273', 'embedded_274', 'embedded_275', 'embedded_276', 'embedded_277', 'embedded_278', 'embedded_279',\n",
    "'embedded_280', 'embedded_281', 'embedded_282', 'embedded_283', 'embedded_284', 'embedded_285', 'embedded_286', 'embedded_287', 'embedded_288', 'embedded_289',\n",
    "'embedded_290', 'embedded_291', 'embedded_292', 'embedded_293', 'embedded_294', 'embedded_295', 'embedded_296', 'embedded_297', 'embedded_298', 'embedded_299',\n",
    "'embedded_300', 'embedded_301', 'embedded_302', 'embedded_303', 'embedded_304', 'embedded_305', 'embedded_306', 'embedded_307', 'embedded_308', 'embedded_309',\n",
    "'embedded_310', 'embedded_311', 'embedded_312', 'embedded_313', 'embedded_314', 'embedded_315', 'embedded_316', 'embedded_317', 'embedded_318', 'embedded_319',\n",
    "'embedded_320', 'embedded_321', 'embedded_322', 'embedded_323', 'embedded_324', 'embedded_325', 'embedded_326', 'embedded_327', 'embedded_328', 'embedded_329',\n",
    "'embedded_330', 'embedded_331', 'embedded_332', 'embedded_333', 'embedded_334', 'embedded_335', 'embedded_336', 'embedded_337', 'embedded_338', 'embedded_339',\n",
    "'embedded_340', 'embedded_341', 'embedded_342', 'embedded_343', 'embedded_344', 'embedded_345', 'embedded_346', 'embedded_347', 'embedded_348', 'embedded_349',\n",
    "'embedded_350', 'embedded_351', 'embedded_352', 'embedded_353', 'embedded_354', 'embedded_355', 'embedded_356', 'embedded_357', 'embedded_358', 'embedded_359',\n",
    "'embedded_360', 'embedded_361', 'embedded_362', 'embedded_363', 'embedded_364', 'embedded_365', 'embedded_366', 'embedded_367', 'embedded_368', 'embedded_369',\n",
    "'embedded_370', 'embedded_371', 'embedded_372', 'embedded_373', 'embedded_374', 'embedded_375', 'embedded_376', 'embedded_377', 'embedded_378', 'embedded_379',\n",
    "'embedded_380', 'embedded_381', 'embedded_382', 'embedded_383', 'embedded_384', 'embedded_385', 'embedded_386', 'embedded_387', 'embedded_388', 'embedded_389',\n",
    "'embedded_390', 'embedded_391', 'embedded_392', 'embedded_393', 'embedded_394', 'embedded_395', 'embedded_396', 'embedded_397', 'embedded_398', 'embedded_399',\n",
    "'embedded_400', 'embedded_401', 'embedded_402', 'embedded_403', 'embedded_404', 'embedded_405', 'embedded_406', 'embedded_407', 'embedded_408', 'embedded_409',\n",
    "'embedded_410', 'embedded_411', 'embedded_412', 'embedded_413', 'embedded_414', 'embedded_415', 'embedded_416', 'embedded_417', 'embedded_418', 'embedded_419',\n",
    "'embedded_420', 'embedded_421', 'embedded_422', 'embedded_423', 'embedded_424', 'embedded_425', 'embedded_426', 'embedded_427', 'embedded_428', 'embedded_429',\n",
    "'embedded_430', 'embedded_431', 'embedded_432', 'embedded_433', 'embedded_434', 'embedded_435', 'embedded_436', 'embedded_437', 'embedded_438', 'embedded_439',\n",
    "'embedded_440', 'embedded_441', 'embedded_442', 'embedded_443', 'embedded_444', 'embedded_445', 'embedded_446', 'embedded_447', 'embedded_448', 'embedded_449',\n",
    "'embedded_450', 'embedded_451', 'embedded_452', 'embedded_453', 'embedded_454', 'embedded_455', 'embedded_456', 'embedded_457', 'embedded_458', 'embedded_459',\n",
    "'embedded_460', 'embedded_461', 'embedded_462', 'embedded_463', 'embedded_464', 'embedded_465', 'embedded_466', 'embedded_467', 'embedded_468', 'embedded_469',\n",
    "'embedded_470', 'embedded_471', 'embedded_472', 'embedded_473', 'embedded_474', 'embedded_475', 'embedded_476', 'embedded_477', 'embedded_478', 'embedded_479',\n",
    "'embedded_480', 'embedded_481', 'embedded_482', 'embedded_483', 'embedded_484', 'embedded_485', 'embedded_486', 'embedded_487', 'embedded_488', 'embedded_489',\n",
    "'embedded_490', 'embedded_491', 'embedded_492', 'embedded_493', 'embedded_494', 'embedded_495', 'embedded_496', 'embedded_497', 'embedded_498', 'embedded_499',\n",
    "'embedded_500', 'embedded_501', 'embedded_502', 'embedded_503', 'embedded_504', 'embedded_505', 'embedded_506', 'embedded_507', 'embedded_508', 'embedded_509',\n",
    "'embedded_510', 'embedded_511', 'embedded_512', 'embedded_513', 'embedded_514', 'embedded_515', 'embedded_516', 'embedded_517', 'embedded_518', 'embedded_519',\n",
    "'embedded_520', 'embedded_521', 'embedded_522', 'embedded_523', 'embedded_524', 'embedded_525', 'embedded_526', 'embedded_527', 'embedded_528', 'embedded_529',\n",
    "'embedded_530', 'embedded_531', 'embedded_532', 'embedded_533', 'embedded_534', 'embedded_535', 'embedded_536', 'embedded_537', 'embedded_538', 'embedded_539',\n",
    "'embedded_540', 'embedded_541', 'embedded_542', 'embedded_543', 'embedded_544', 'embedded_545', 'embedded_546', 'embedded_547', 'embedded_548', 'embedded_549',\n",
    "'embedded_550', 'embedded_551', 'embedded_552', 'embedded_553', 'embedded_554', 'embedded_555', 'embedded_556', 'embedded_557', 'embedded_558', 'embedded_559',\n",
    "'embedded_560', 'embedded_561', 'embedded_562', 'embedded_563', 'embedded_564', 'embedded_565', 'embedded_566', 'embedded_567', 'embedded_568', 'embedded_569',\n",
    "'embedded_570', 'embedded_571', 'embedded_572', 'embedded_573', 'embedded_574', 'embedded_575', 'embedded_576', 'embedded_577', 'embedded_578', 'embedded_579',\n",
    "'embedded_580', 'embedded_581', 'embedded_582', 'embedded_583', 'embedded_584', 'embedded_585', 'embedded_586', 'embedded_587', 'embedded_588', 'embedded_589',\n",
    "'embedded_590', 'embedded_591', 'embedded_592', 'embedded_593', 'embedded_594', 'embedded_595', 'embedded_596', 'embedded_597', 'embedded_598', 'embedded_599',\n",
    "'embedded_600', 'embedded_601', 'embedded_602', 'embedded_603', 'embedded_604', 'embedded_605', 'embedded_606', 'embedded_607', 'embedded_608', 'embedded_609',\n",
    "'embedded_610', 'embedded_611', 'embedded_612', 'embedded_613', 'embedded_614', 'embedded_615', 'embedded_616', 'embedded_617', 'embedded_618', 'embedded_619',\n",
    "'embedded_620', 'embedded_621', 'embedded_622', 'embedded_623', 'embedded_624', 'embedded_625', 'embedded_626', 'embedded_627', 'embedded_628', 'embedded_629',\n",
    "'embedded_630', 'embedded_631', 'embedded_632', 'embedded_633', 'embedded_634', 'embedded_635', 'embedded_636', 'embedded_637', 'embedded_638', 'embedded_639',\n",
    "'embedded_640', 'embedded_641', 'embedded_642', 'embedded_643', 'embedded_644', 'embedded_645', 'embedded_646', 'embedded_647', 'embedded_648', 'embedded_649',\n",
    "'embedded_650', 'embedded_651', 'embedded_652', 'embedded_653', 'embedded_654', 'embedded_655', 'embedded_656', 'embedded_657', 'embedded_658', 'embedded_659',\n",
    "'embedded_660', 'embedded_661', 'embedded_662', 'embedded_663', 'embedded_664', 'embedded_665', 'embedded_666', 'embedded_667', 'embedded_668', 'embedded_669',\n",
    "'embedded_670', 'embedded_671', 'embedded_672', 'embedded_673', 'embedded_674', 'embedded_675', 'embedded_676', 'embedded_677', 'embedded_678', 'embedded_679',\n",
    "'embedded_680', 'embedded_681', 'embedded_682', 'embedded_683', 'embedded_684', 'embedded_685', 'embedded_686', 'embedded_687', 'embedded_688', 'embedded_689',\n",
    "'embedded_690', 'embedded_691', 'embedded_692', 'embedded_693', 'embedded_694', 'embedded_695', 'embedded_696', 'embedded_697', 'embedded_698', 'embedded_699',\n",
    "'embedded_700', 'embedded_701', 'embedded_702', 'embedded_703', 'embedded_704', 'embedded_705', 'embedded_706', 'embedded_707', 'embedded_708', 'embedded_709',\n",
    "'embedded_710', 'embedded_711', 'embedded_712', 'embedded_713', 'embedded_714', 'embedded_715', 'embedded_716', 'embedded_717', 'embedded_718', 'embedded_719',\n",
    "'embedded_720', 'embedded_721', 'embedded_722', 'embedded_723', 'embedded_724', 'embedded_725', 'embedded_726', 'embedded_727', 'embedded_728', 'embedded_729',\n",
    "'embedded_730', 'embedded_731', 'embedded_732', 'embedded_733', 'embedded_734', 'embedded_735', 'embedded_736', 'embedded_737', 'embedded_738', 'embedded_739',\n",
    "'embedded_740', 'embedded_741', 'embedded_742', 'embedded_743', 'embedded_744', 'embedded_745', 'embedded_746', 'embedded_747', 'embedded_748', 'embedded_749',\n",
    "'embedded_750', 'embedded_751', 'embedded_752', 'embedded_753', 'embedded_754', 'embedded_755', 'embedded_756', 'embedded_757', 'embedded_758', 'embedded_759',\n",
    "'embedded_760', 'embedded_761', 'embedded_762', 'embedded_763', 'embedded_764', 'embedded_765', 'embedded_766', 'embedded_767', 'embedded_768', 'embedded_769',\n",
    "'embedded_770', 'embedded_771', 'embedded_772', 'embedded_773', 'embedded_774', 'embedded_775', 'embedded_776', 'embedded_777', 'embedded_778', 'embedded_779',\n",
    "'embedded_780', 'embedded_781', 'embedded_782', 'embedded_783', 'embedded_784', 'embedded_785', 'embedded_786', 'embedded_787', 'embedded_788', 'embedded_789',\n",
    "'embedded_790', 'embedded_791', 'embedded_792', 'embedded_793', 'embedded_794', 'embedded_795', 'embedded_796', 'embedded_797', 'embedded_798', 'embedded_799',\n",
    "'embedded_800', 'embedded_801', 'embedded_802', 'embedded_803', 'embedded_804', 'embedded_805', 'embedded_806', 'embedded_807', 'embedded_808', 'embedded_809',\n",
    "'embedded_810', 'embedded_811', 'embedded_812', 'embedded_813', 'embedded_814', 'embedded_815', 'embedded_816', 'embedded_817', 'embedded_818', 'embedded_819',\n",
    "'embedded_820', 'embedded_821', 'embedded_822', 'embedded_823', 'embedded_824', 'embedded_825', 'embedded_826', 'embedded_827', 'embedded_828', 'embedded_829',\n",
    "'embedded_830', 'embedded_831', 'embedded_832', 'embedded_833', 'embedded_834', 'embedded_835', 'embedded_836', 'embedded_837', 'embedded_838', 'embedded_839',\n",
    "'embedded_840', 'embedded_841', 'embedded_842', 'embedded_843', 'embedded_844', 'embedded_845', 'embedded_846', 'embedded_847', 'embedded_848', 'embedded_849',\n",
    "'embedded_850', 'embedded_851', 'embedded_852', 'embedded_853', 'embedded_854', 'embedded_855', 'embedded_856', 'embedded_857', 'embedded_858', 'embedded_859',\n",
    "'embedded_860', 'embedded_861', 'embedded_862', 'embedded_863', 'embedded_864', 'embedded_865', 'embedded_866', 'embedded_867', 'embedded_868', 'embedded_869',\n",
    "'embedded_870', 'embedded_871', 'embedded_872', 'embedded_873', 'embedded_874', 'embedded_875', 'embedded_876', 'embedded_877', 'embedded_878', 'embedded_879',\n",
    "'embedded_880', 'embedded_881', 'embedded_882', 'embedded_883', 'embedded_884', 'embedded_885', 'embedded_886', 'embedded_887', 'embedded_888', 'embedded_889',\n",
    "'embedded_890', 'embedded_891', 'embedded_892', 'embedded_893', 'embedded_894', 'embedded_895', 'embedded_896', 'embedded_897', 'embedded_898', 'embedded_899',\n",
    "'embedded_900', 'embedded_901', 'embedded_902', 'embedded_903', 'embedded_904', 'embedded_905', 'embedded_906', 'embedded_907', 'embedded_908', 'embedded_909',\n",
    "'embedded_910', 'embedded_911', 'embedded_912', 'embedded_913', 'embedded_914', 'embedded_915', 'embedded_916', 'embedded_917', 'embedded_918', 'embedded_919',\n",
    "'embedded_920', 'embedded_921', 'embedded_922', 'embedded_923', 'embedded_924', 'embedded_925', 'embedded_926', 'embedded_927', 'embedded_928', 'embedded_929',\n",
    "'embedded_930', 'embedded_931', 'embedded_932', 'embedded_933', 'embedded_934', 'embedded_935', 'embedded_936', 'embedded_937', 'embedded_938', 'embedded_939',\n",
    "'embedded_940', 'embedded_941', 'embedded_942', 'embedded_943', 'embedded_944', 'embedded_945', 'embedded_946', 'embedded_947', 'embedded_948', 'embedded_949',\n",
    "'embedded_950', 'embedded_951', 'embedded_952', 'embedded_953', 'embedded_954', 'embedded_955', 'embedded_956', 'embedded_957', 'embedded_958', 'embedded_959',\n",
    "'embedded_960', 'embedded_961', 'embedded_962', 'embedded_963', 'embedded_964', 'embedded_965', 'embedded_966', 'embedded_967', 'embedded_968', 'embedded_969',\n",
    "'embedded_970', 'embedded_971', 'embedded_972', 'embedded_973', 'embedded_974', 'embedded_975', 'embedded_976', 'embedded_977', 'embedded_978', 'embedded_979',\n",
    "'embedded_980', 'embedded_981', 'embedded_982', 'embedded_983', 'embedded_984', 'embedded_985', 'embedded_986', 'embedded_987', 'embedded_988', 'embedded_989',\n",
    "'embedded_990', 'embedded_991', 'embedded_992', 'embedded_993', 'embedded_994', 'embedded_995', 'embedded_996', 'embedded_997', 'embedded_998', 'embedded_999',\n",
    "'embedded_1000', 'embedded_1001', 'embedded_1002', 'embedded_1003', 'embedded_1004', 'embedded_1005', 'embedded_1006', 'embedded_1007', 'embedded_1008', 'embedded_1009',\n",
    "'embedded_1010', 'embedded_1011', 'embedded_1012', 'embedded_1013', 'embedded_1014', 'embedded_1015', 'embedded_1016', 'embedded_1017', 'embedded_1018', 'embedded_1019',\n",
    "'embedded_1020', 'embedded_1021', 'embedded_1022', 'embedded_1023'\n",
    "\n",
    "]]\n"
   ]
  },
  {
   "cell_type": "markdown",
   "metadata": {},
   "source": [
    "### Save the final dataset for modeling"
   ]
  },
  {
   "cell_type": "code",
   "execution_count": null,
   "metadata": {},
   "outputs": [],
   "source": [
    "df_to_model.to_csv('../Data/Clean-Data/df_to_model.csv', index=False)\n",
    "print(\"Final Data for Modeling Saved.\")"
   ]
  },
  {
   "cell_type": "code",
   "execution_count": null,
   "metadata": {},
   "outputs": [],
   "source": [
    "df_to_model.shape"
   ]
  },
  {
   "cell_type": "markdown",
   "metadata": {},
   "source": [
    "Final Data Prep: The final dataset is ready to be used for model training and testing."
   ]
  },
  {
   "cell_type": "markdown",
   "metadata": {},
   "source": [
    "# Conclusion\n",
    "The feature-engineered dataset is saved as final_data_for_modeling.csv. This dataset is now ready to be fed into machine learning models."
   ]
  }
 ],
 "metadata": {
  "kernelspec": {
   "display_name": "base",
   "language": "python",
   "name": "python3"
  },
  "language_info": {
   "codemirror_mode": {
    "name": "ipython",
    "version": 3
   },
   "file_extension": ".py",
   "mimetype": "text/x-python",
   "name": "python",
   "nbconvert_exporter": "python",
   "pygments_lexer": "ipython3",
   "version": "3.12.2"
  }
 },
 "nbformat": 4,
 "nbformat_minor": 2
}
